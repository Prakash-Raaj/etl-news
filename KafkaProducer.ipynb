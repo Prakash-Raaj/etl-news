{
 "cells": [
  {
   "cell_type": "code",
   "execution_count": null,
   "id": "6908881c-ec34-4e17-abf7-d51798832816",
   "metadata": {},
   "outputs": [],
   "source": [
    "%pip install newsapi\n",
    "%pip install newsapi-python\n",
    "%pip install kafka-python\n",
    "%pip install transformers torch"
   ]
  },
  {
   "cell_type": "code",
   "execution_count": null,
   "id": "be737c69-e423-43e0-83ff-6c798604ebb1",
   "metadata": {},
   "outputs": [],
   "source": [
    "from newsapi import NewsApiClient\n",
    "import json\n",
    "from kafka import KafkaProducer\n",
    "from transformers import pipeline"
   ]
  },
  {
   "cell_type": "code",
   "execution_count": null,
   "id": "d1acb55a-0467-4a3b-8879-430f41104c09",
   "metadata": {},
   "outputs": [],
   "source": [
    "key = \"93e226e768c04c51853813181c122477\"\n",
    "\n",
    "# Initialize api endpoint\n",
    "newsapi = NewsApiClient(api_key=key)"
   ]
  },
  {
   "cell_type": "code",
   "execution_count": null,
   "id": "c92a2d8c-2d0b-4276-a903-51f0eb19a349",
   "metadata": {},
   "outputs": [],
   "source": [
    "sources = 'bbc-news,cnn,fox-news,nbc-news,the-guardian-uk,the-new-york-times,the-washington-post,usa-today,independent,daily-mail'\n"
   ]
  },
  {
   "cell_type": "code",
   "execution_count": null,
   "id": "8f3a8a9b-fdbe-43c6-992e-b34172c7e07c",
   "metadata": {},
   "outputs": [],
   "source": [
    "all_articles = newsapi.get_everything(q='france',\n",
    "                                      sources=sources,\n",
    "                                      language='en')"
   ]
  },
  {
   "cell_type": "code",
   "execution_count": null,
   "id": "5066e170-067e-4bc7-8e76-64b7f10f9f1e",
   "metadata": {},
   "outputs": [],
   "source": [
    "def preprocess_data(article, category):\n",
    "        return {\n",
    "            'source': article.get('source', {}).get('name'),\n",
    "            'category':category,\n",
    "            'title': article.get('title'),\n",
    "            'author': article.get('author'),\n",
    "            'url': article.get('url'),\n",
    "            'urlToImage': article.get('urlToImage'),\n",
    "            'content': article.get('content')\n",
    "        }\n",
    "    "
   ]
  },
  {
   "cell_type": "code",
   "execution_count": null,
   "id": "9c66c278-9d0f-4315-976e-3b1d0e315de0",
   "metadata": {},
   "outputs": [],
   "source": [
    "processed_data = []\n",
    "classifier = pipeline(\"text-classification\", model=\"classla/multilingual-IPTC-news-topic-classifier\", device=0, max_length=512, truncation=True)\n",
    "for article in all_articles['articles']:\n",
    "    if article['title'] != '[Removed]':\n",
    "        category = classifier(article['title'])\n",
    "        processed_data.append(preprocess_data(article, category[0].get('label')))"
   ]
  },
  {
   "cell_type": "code",
   "execution_count": null,
   "id": "bcd142a6-a92a-4638-99ec-9b7a9ebca693",
   "metadata": {},
   "outputs": [],
   "source": [
    "for record in processed_data:\n",
    "    producer = KafkaProducer(bootstrap_servers='localhost:9092')\n",
    "    producer.send('news-from-api', json.dumps(record).encode('utf-8'))\n",
    "# producer.flush()\n",
    "# producer.close()"
   ]
  },
  {
   "cell_type": "code",
   "execution_count": null,
   "id": "865e5b32-7771-47ca-bcaf-088af3b88116",
   "metadata": {},
   "outputs": [],
   "source": []
  }
 ],
 "metadata": {
  "kernelspec": {
   "display_name": "Python 3 (ipykernel)",
   "language": "python",
   "name": "python3"
  },
  "language_info": {
   "codemirror_mode": {
    "name": "ipython",
    "version": 3
   },
   "file_extension": ".py",
   "mimetype": "text/x-python",
   "name": "python",
   "nbconvert_exporter": "python",
   "pygments_lexer": "ipython3",
   "version": "3.11.7"
  }
 },
 "nbformat": 4,
 "nbformat_minor": 5
}
