{
 "cells": [
  {
   "cell_type": "code",
   "execution_count": null,
   "id": "9ebb9fee-a4b6-4992-b70d-307458c551a9",
   "metadata": {},
   "outputs": [],
   "source": [
    "%pip install transformers torch\n",
    "%pip install kafka-python"
   ]
  },
  {
   "cell_type": "code",
   "execution_count": 1,
   "id": "b6bc84f6-84b1-4e75-bd27-733729b811fe",
   "metadata": {},
   "outputs": [],
   "source": [
    "import json\n",
    "from kafka import KafkaConsumer\n",
    "# from pyhive import hive\n",
    "from transformers import pipeline"
   ]
  },
  {
   "cell_type": "code",
   "execution_count": 3,
   "id": "aec126b4-fd13-4ab4-aff8-1412f1c92fb4",
   "metadata": {},
   "outputs": [],
   "source": [
    "consumer = KafkaConsumer(\n",
    "    'news-from-api',\n",
    "    bootstrap_servers='localhost:9092',\n",
    "    auto_offset_reset='latest',\n",
    "    consumer_timeout_ms=5000\n",
    ")"
   ]
  },
  {
   "cell_type": "code",
   "execution_count": null,
   "id": "1aee4342-68f3-457f-b289-dc183b9a76d6",
   "metadata": {},
   "outputs": [],
   "source": [
    "with open('/home/prakashraaj7996/news-india.csv', mode='w', newline='', encoding='utf-8') as file:\n",
    "    writer = csv.writer(file, delimiter ='|')\n",
    "    \n",
    "    writer.writerow(['source', 'title', 'author', 'url', 'urlToImage', 'publishedAt', 'content'])\n",
    "    for message in consumer:\n",
    "        data = json.loads(message.value.decode('utf-8'))\n",
    "        writer.writerow(data.values())\n",
    "print('data written into file')"
   ]
  }
 ],
 "metadata": {
  "kernelspec": {
   "display_name": "Python 3 (ipykernel)",
   "language": "python",
   "name": "python3"
  },
  "language_info": {
   "codemirror_mode": {
    "name": "ipython",
    "version": 3
   },
   "file_extension": ".py",
   "mimetype": "text/x-python",
   "name": "python",
   "nbconvert_exporter": "python",
   "pygments_lexer": "ipython3",
   "version": "3.11.7"
  }
 },
 "nbformat": 4,
 "nbformat_minor": 5
}
